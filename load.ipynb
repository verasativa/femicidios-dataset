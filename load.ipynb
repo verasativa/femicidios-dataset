{
 "cells": [
  {
   "cell_type": "code",
   "execution_count": 85,
   "metadata": {},
   "outputs": [],
   "source": [
    "import pandas as pd\n",
    "\n",
    "files = [\n",
    "    'data/Copia-de-femicidios_2010-1.xlsx',\n",
    "    'data/Copia-de-femicidios_2011.xlsx',\n",
    "    'data/Copia-de-femicidios_2012.xlsx',\n",
    "    'data/Copia-de-femicidios_2013.xlsx',\n",
    "    'data/Copia-de-femicidios2014final.xlsx',\n",
    "    'data/Femicidios-2015-1-2.xlsx',\n",
    "    'data/Femicidios-2016.xls',\n",
    "    'data/Femicidios 2017 - Red Chilena contra la Violencia hacia las Mujeres - FEMICIDIOS 2017.csv',\n",
    "    'data/Femicidios 2018 - Red Chilena contra la Violencia hacia las Mujeres - FEMICIDIOS 2018.csv',\n",
    "    'data/Femicidios 2019 - Red Chilena contra la Violencia hacia las Mujeres - FEMICIDIOS 2019.csv'\n",
    "]\n",
    "line_1_files = [\n",
    "    'data/Femicidios-2016.xls',\n",
    "    'data/Femicidios 2017 - Red Chilena contra la Violencia hacia las Mujeres - FEMICIDIOS 2017.csv',\n",
    "]\n",
    "cols_rename = {\n",
    "    'Antecedentes Judiciales': 'Antecedentes',\n",
    "    'Antecedentes judiciales': 'Antecedentes',\n",
    "    'Relación ': 'Relación',\n",
    "    'Categoria Delito/Ley Femic.': 'Categoría delito/ Ley Femicidio',\n",
    "    'Categoria Delito': 'Categoría delito/ Ley Femicidio',\n",
    "    'Categoria Delito': 'Categoría delito/ Ley Femicidio',\n",
    "    'Denuncia/ M cautelar': 'Denuncia/M cautelar',\n",
    "    'Ocupación ': 'Ocupación femicida',\n",
    "    'Edad ': 'Edad',\n",
    "    'Ocupación.1': 'Ocupación femicida',\n",
    "    'Edad.1': 'Edad femicida',\n",
    "    'Edad .1': 'Edad femicida',\n",
    "    'Edad 1': 'Edad femicida',\n",
    "    'Antecedentes ': 'Antecedentes',\n",
    "    'Fecha y Lugar': 'Fecha y lugar',\n",
    "    'Femicidia': 'Femicida',\n",
    "    'Nacionalidad / Etnia.1': 'Nacionalidad / Etnia femicida'\n",
    "}\n",
    "cols_delete = [\n",
    "    'Unnamed: 15',\n",
    "    'Unnamed: 16',\n",
    "    'Unnamed: 0',\n",
    "    'Unnamed: 24',\n",
    "    'Unnamed: 25'\n",
    "]\n",
    "dataframes = []\n",
    "for file in files:\n",
    "    if file in line_1_files:\n",
    "        header_line = 1\n",
    "    else:\n",
    "        header_line = 2\n",
    "    if file.split('.')[-1] == 'csv':\n",
    "        current_df = pd.read_csv(file, header=header_line)\n",
    "    else:\n",
    "        current_df = pd.read_excel(file, header=header_line)\n",
    "    for column in current_df:\n",
    "        for col_rename in cols_rename:\n",
    "            if column == col_rename:\n",
    "                current_df.rename(columns={column: cols_rename[column]}, inplace=True)\n",
    "        for col_delete in cols_delete:\n",
    "            if column == col_delete:\n",
    "                del current_df[column]\n",
    "    current_df['source'] = file\n",
    "    dataframes.append(current_df)"
   ]
  },
  {
   "cell_type": "code",
   "execution_count": null,
   "metadata": {},
   "outputs": [],
   "source": [
    "# TODO:\n",
    "# - parse fecha / lugar\n",
    "# - parse / make array references\n",
    "# - check categorical values"
   ]
  },
  {
   "cell_type": "code",
   "execution_count": null,
   "metadata": {},
   "outputs": [],
   "source": [
    "# Count fields\n",
    "from collections import Counter\n",
    "\n",
    "counter = Counter()\n",
    "for dataframe in dataframes:\n",
    "    counter.update(dataframe.columns)\n",
    "counter"
   ]
  },
  {
   "cell_type": "code",
   "execution_count": 80,
   "metadata": {},
   "outputs": [
    {
     "name": "stdout",
     "output_type": "stream",
     "text": [
      "{}\n",
      "{}\n",
      "{}\n",
      "{}\n",
      "{}\n",
      "{}\n",
      "{}\n",
      "{}\n",
      "{}\n",
      "{}\n"
     ]
    }
   ],
   "source": [
    "# Check cols with same name\n",
    "def duplicated_varnames(df):\n",
    "    \"\"\"Return a dict of all variable names that \n",
    "    are duplicated in a given dataframe.\"\"\"\n",
    "    repeat_dict = {}\n",
    "    var_list = list(df) # list of varnames as strings\n",
    "    for varname in var_list:\n",
    "        # make a list of all instances of that varname\n",
    "        test_list = [v for v in var_list if v == varname] \n",
    "        # if more than one instance, report duplications in repeat_dict\n",
    "        if len(test_list) > 1: \n",
    "            repeat_dict[varname] = len(test_list)\n",
    "    return repeat_dict\n",
    "\n",
    "for dataframe in dataframes:\n",
    "    print(duplicated_varnames(dataframe))"
   ]
  },
  {
   "cell_type": "code",
   "execution_count": 84,
   "metadata": {},
   "outputs": [],
   "source": [
    "# Export\n",
    "pd.concat(dataframes, sort=False).to_csv('preview.csv', index=False)"
   ]
  },
  {
   "cell_type": "code",
   "execution_count": null,
   "metadata": {},
   "outputs": [],
   "source": []
  }
 ],
 "metadata": {
  "jupytext": {},
  "kernelspec": {
   "display_name": "Python 3",
   "language": "python",
   "name": "python3"
  },
  "language_info": {
   "codemirror_mode": {
    "name": "ipython",
    "version": 3
   },
   "file_extension": ".py",
   "mimetype": "text/x-python",
   "name": "python",
   "nbconvert_exporter": "python",
   "pygments_lexer": "ipython3",
   "version": "3.6.7"
  }
 },
 "nbformat": 4,
 "nbformat_minor": 2
}
